{
 "cells": [
  {
   "cell_type": "code",
   "execution_count": 1,
   "metadata": {},
   "outputs": [],
   "source": [
    "import numpy as np\n",
    "import torch\n",
    "import torchvision\n",
    "import matplotlib.pyplot as plt\n",
    "from time import time \n",
    "from torch.utils.data.sampler import SubsetRandomSampler\n",
    "from torchvision import datasets,transforms\n",
    "import torch.nn as nn\n",
    "import torch.nn.functional as F\n",
    "from torch import nn,optim"
   ]
  },
  {
   "cell_type": "code",
   "execution_count": 2,
   "metadata": {},
   "outputs": [],
   "source": [
    "# number of subprocesses to use for data loading\n",
    "num_workers = 0\n",
    "# how many samples per batch to load\n",
    "batch_size = 20\n",
    "# percentage of training set to use as validation\n",
    "valid_size = 0.2\n",
    "\n",
    "# convert data to torch.FloatTensor\n",
    "transform = transforms.ToTensor()\n",
    "\n",
    "# choose the training and test datasets\n",
    "train_data = datasets.MNIST(root='data', train=True,\n",
    "                                   download=True, transform=transform)\n",
    "test_data = datasets.MNIST(root='data', train=False,\n",
    "                                  download=True, transform=transform)\n",
    "\n",
    "# obtain training indices that will be used for validation\n",
    "num_train = len(train_data)\n",
    "indices = list(range(num_train))\n",
    "np.random.shuffle(indices)\n",
    "split = int(np.floor(valid_size * num_train))\n",
    "train_idx, valid_idx = indices[split:], indices[:split]\n",
    "\n",
    "# define samplers for obtaining training and validation batches\n",
    "train_sampler = SubsetRandomSampler(train_idx)\n",
    "valid_sampler = SubsetRandomSampler(valid_idx)\n",
    "\n",
    "# prepare data loaders\n",
    "train_loader = torch.utils.data.DataLoader(train_data, batch_size=batch_size,\n",
    "    sampler=train_sampler, num_workers=num_workers)\n",
    "valid_loader = torch.utils.data.DataLoader(train_data, batch_size=batch_size, \n",
    "    sampler=valid_sampler, num_workers=num_workers)\n",
    "test_loader = torch.utils.data.DataLoader(test_data, batch_size=batch_size, \n",
    "    num_workers=num_workers)"
   ]
  },
  {
   "cell_type": "markdown",
   "metadata": {},
   "source": [
    "# Visualize the dataset"
   ]
  },
  {
   "cell_type": "code",
   "execution_count": 3,
   "metadata": {},
   "outputs": [
    {
     "data": {
      "image/png": "[encoded data removed]",
      "text/plain": [
       "<Figure size 1800x360 with 20 Axes>"
      ]
     },
     "metadata": {},
     "output_type": "display_data"
    }
   ],
   "source": [
    "# obtain one batch of training images\n",
    "dataiter = iter(train_loader)\n",
    "images, labels = dataiter.next()\n",
    "images = images.numpy()\n",
    "\n",
    "# plot the images in the batch, along with the corresponding labels\n",
    "fig = plt.figure(figsize=(25, 5))\n",
    "for idx in np.arange(20):\n",
    "    ax = fig.add_subplot(2, 20/2, idx+1, xticks=[], yticks=[])\n",
    "    ax.imshow(np.squeeze(images[idx]), cmap='gray')\n",
    "    # print out the correct label for each image\n",
    "    # .item() gets the value contained in a Tensor\n",
    "    ax.set_title(str(labels[idx].item()))"
   ]
  },
  {
   "cell_type": "markdown",
   "metadata": {},
   "source": [
    "# Neural Network Architecture "
   ]
  },
  {
   "cell_type": "code",
   "execution_count": 4,
   "metadata": {},
   "outputs": [
    {
     "name": "stdout",
     "output_type": "stream",
     "text": [
      "Net(\n",
      "  (conv1): Conv2d(1, 10, kernel_size=(5, 5), stride=(1, 1))\n",
      "  (conv2): Conv2d(10, 20, kernel_size=(5, 5), stride=(1, 1))\n",
      "  (conv2_drop): Dropout2d(p=0.5, inplace=False)\n",
      "  (fc1): Linear(in_features=320, out_features=50, bias=True)\n",
      "  (fc2): Linear(in_features=50, out_features=10, bias=True)\n",
      ")\n"
     ]
    }
   ],
   "source": [
    "class Net(nn.Module):\n",
    "    def __init__(self):\n",
    "        super(Net, self).__init__()\n",
    "        self.conv1 = nn.Conv2d(1, 10, kernel_size=5)\n",
    "        self.conv2 = nn.Conv2d(10, 20, kernel_size=5)\n",
    "        self.conv2_drop = nn.Dropout2d()\n",
    "        self.fc1 = nn.Linear(320, 50)\n",
    "        self.fc2 = nn.Linear(50, 10)\n",
    "\n",
    "    def forward(self, x):\n",
    "        x = F.relu(F.max_pool2d(self.conv1(x), 2))\n",
    "        x = F.relu(F.max_pool2d(self.conv2_drop(self.conv2(x)), 2))\n",
    "        x = x.view(-1, 320)\n",
    "        x = F.relu(self.fc1(x))\n",
    "        x = F.dropout(x, training=self.training)\n",
    "        x = self.fc2(x)\n",
    "        return x\n",
    "\n",
    "# create a complete CNN\n",
    "model = Net()\n",
    "print(model)\n",
    "\n"
   ]
  },
  {
   "cell_type": "code",
   "execution_count": 5,
   "metadata": {},
   "outputs": [],
   "source": [
    "import torch.optim as optim\n",
    "\n",
    "# specify loss function (categorical cross-entropy)\n",
    "criterion = nn.CrossEntropyLoss()\n",
    "\n",
    "# specify optimizer\n",
    "optimizer = optim.SGD(model.parameters(), lr=0.01)"
   ]
  },
  {
   "cell_type": "markdown",
   "metadata": {},
   "source": [
    "# Train the Model"
   ]
  },
  {
   "cell_type": "code",
   "execution_count": 6,
   "metadata": {},
   "outputs": [
    {
     "name": "stdout",
     "output_type": "stream",
     "text": [
      "Epoch: 1 \tTraining Loss: 1.155999 \tValidation Loss: 0.317444\n",
      "Validation loss decreased (inf --> 0.317444).  Saving model ...\n",
      "Epoch: 2 \tTraining Loss: 0.493576 \tValidation Loss: 0.190123\n",
      "Validation loss decreased (0.317444 --> 0.190123).  Saving model ...\n",
      "Epoch: 3 \tTraining Loss: 0.376858 \tValidation Loss: 0.148275\n",
      "Validation loss decreased (0.190123 --> 0.148275).  Saving model ...\n",
      "Epoch: 4 \tTraining Loss: 0.325991 \tValidation Loss: 0.131372\n",
      "Validation loss decreased (0.148275 --> 0.131372).  Saving model ...\n",
      "Epoch: 5 \tTraining Loss: 0.296545 \tValidation Loss: 0.113776\n",
      "Validation loss decreased (0.131372 --> 0.113776).  Saving model ...\n",
      "Epoch: 6 \tTraining Loss: 0.274829 \tValidation Loss: 0.108371\n",
      "Validation loss decreased (0.113776 --> 0.108371).  Saving model ...\n",
      "Epoch: 7 \tTraining Loss: 0.254432 \tValidation Loss: 0.100853\n",
      "Validation loss decreased (0.108371 --> 0.100853).  Saving model ...\n",
      "Epoch: 8 \tTraining Loss: 0.238572 \tValidation Loss: 0.088277\n",
      "Validation loss decreased (0.100853 --> 0.088277).  Saving model ...\n",
      "Epoch: 9 \tTraining Loss: 0.224425 \tValidation Loss: 0.085995\n",
      "Validation loss decreased (0.088277 --> 0.085995).  Saving model ...\n",
      "Epoch: 10 \tTraining Loss: 0.216697 \tValidation Loss: 0.083383\n",
      "Validation loss decreased (0.085995 --> 0.083383).  Saving model ...\n",
      "Epoch: 11 \tTraining Loss: 0.207023 \tValidation Loss: 0.076004\n",
      "Validation loss decreased (0.083383 --> 0.076004).  Saving model ...\n",
      "Epoch: 12 \tTraining Loss: 0.201124 \tValidation Loss: 0.068446\n",
      "Validation loss decreased (0.076004 --> 0.068446).  Saving model ...\n",
      "Epoch: 13 \tTraining Loss: 0.189885 \tValidation Loss: 0.071913\n",
      "Epoch: 14 \tTraining Loss: 0.189383 \tValidation Loss: 0.067922\n",
      "Validation loss decreased (0.068446 --> 0.067922).  Saving model ...\n",
      "Epoch: 15 \tTraining Loss: 0.180321 \tValidation Loss: 0.062949\n",
      "Validation loss decreased (0.067922 --> 0.062949).  Saving model ...\n",
      "Epoch: 16 \tTraining Loss: 0.173548 \tValidation Loss: 0.064464\n",
      "Epoch: 17 \tTraining Loss: 0.170294 \tValidation Loss: 0.062420\n",
      "Validation loss decreased (0.062949 --> 0.062420).  Saving model ...\n",
      "Epoch: 18 \tTraining Loss: 0.168944 \tValidation Loss: 0.059479\n",
      "Validation loss decreased (0.062420 --> 0.059479).  Saving model ...\n",
      "Epoch: 19 \tTraining Loss: 0.162650 \tValidation Loss: 0.057269\n",
      "Validation loss decreased (0.059479 --> 0.057269).  Saving model ...\n",
      "Epoch: 20 \tTraining Loss: 0.161992 \tValidation Loss: 0.057544\n",
      "Epoch: 21 \tTraining Loss: 0.152563 \tValidation Loss: 0.055547\n",
      "Validation loss decreased (0.057269 --> 0.055547).  Saving model ...\n",
      "Epoch: 22 \tTraining Loss: 0.150905 \tValidation Loss: 0.054195\n",
      "Validation loss decreased (0.055547 --> 0.054195).  Saving model ...\n",
      "Epoch: 23 \tTraining Loss: 0.151651 \tValidation Loss: 0.057342\n",
      "Epoch: 24 \tTraining Loss: 0.145856 \tValidation Loss: 0.052404\n",
      "Validation loss decreased (0.054195 --> 0.052404).  Saving model ...\n",
      "Epoch: 25 \tTraining Loss: 0.144622 \tValidation Loss: 0.055332\n",
      "Epoch: 26 \tTraining Loss: 0.142576 \tValidation Loss: 0.051095\n",
      "Validation loss decreased (0.052404 --> 0.051095).  Saving model ...\n",
      "Epoch: 27 \tTraining Loss: 0.140401 \tValidation Loss: 0.049627\n",
      "Validation loss decreased (0.051095 --> 0.049627).  Saving model ...\n",
      "Epoch: 28 \tTraining Loss: 0.136356 \tValidation Loss: 0.047026\n",
      "Validation loss decreased (0.049627 --> 0.047026).  Saving model ...\n",
      "Epoch: 29 \tTraining Loss: 0.136897 \tValidation Loss: 0.046666\n",
      "Validation loss decreased (0.047026 --> 0.046666).  Saving model ...\n",
      "Epoch: 30 \tTraining Loss: 0.132403 \tValidation Loss: 0.046600\n",
      "Validation loss decreased (0.046666 --> 0.046600).  Saving model ...\n"
     ]
    }
   ],
   "source": [
    "# number of epochs to train the model\n",
    "n_epochs = 30\n",
    "\n",
    "valid_loss_min = np.Inf # track change in validation loss\n",
    "\n",
    "for epoch in range(1, n_epochs+1):\n",
    "\n",
    "    # keep track of training and validation loss\n",
    "    train_loss = 0.0\n",
    "    valid_loss = 0.0\n",
    "    \n",
    "    ###################\n",
    "    # train the model #\n",
    "    ###################\n",
    "    model.train()\n",
    "    for data, target in train_loader:\n",
    "        # move tensors to GPU if CUDA is available\n",
    "        #if train_on_gpu:\n",
    "        #    data, target = data.cuda(), target.cuda()\n",
    "        # clear the gradients of all optimized variables\n",
    "        optimizer.zero_grad()\n",
    "        # forward pass: compute predicted outputs by passing inputs to the model\n",
    "        output = model(data)\n",
    "        # calculate the batch loss\n",
    "        loss = criterion(output, target)\n",
    "        # backward pass: compute gradient of the loss with respect to model parameters\n",
    "        loss.backward()\n",
    "        # perform a single optimization step (parameter update)\n",
    "        optimizer.step()\n",
    "        # update training loss\n",
    "        train_loss += loss.item()*data.size(0)\n",
    "        \n",
    "    ######################    \n",
    "    # validate the model #\n",
    "    ######################\n",
    "    model.eval()\n",
    "    for data, target in valid_loader:\n",
    "        # move tensors to GPU if CUDA is available\n",
    "        #if train_on_gpu:\n",
    "        #    data, target = data.cuda(), target.cuda()\n",
    "        # forward pass: compute predicted outputs by passing inputs to the model\n",
    "        output = model(data)\n",
    "        # calculate the batch loss\n",
    "        loss = criterion(output, target)\n",
    "        # update average validation loss \n",
    "        valid_loss += loss.item()*data.size(0)\n",
    "    \n",
    "    # calculate average losses\n",
    "    train_loss = train_loss/len(train_loader.sampler)\n",
    "    valid_loss = valid_loss/len(valid_loader.sampler)\n",
    "        \n",
    "    # print training/validation statistics \n",
    "    print('Epoch: {} \\tTraining Loss: {:.6f} \\tValidation Loss: {:.6f}'.format(\n",
    "        epoch, train_loss, valid_loss))\n",
    "    \n",
    "    # save model if validation loss has decreased\n",
    "    if valid_loss <= valid_loss_min:\n",
    "        print('Validation loss decreased ({:.6f} --> {:.6f}).  Saving model ...'.format(\n",
    "        valid_loss_min,\n",
    "        valid_loss))\n",
    "        torch.save(model.state_dict(), 'model_mnist.pt')\n",
    "        valid_loss_min = valid_loss"
   ]
  },
  {
   "cell_type": "code",
   "execution_count": 7,
   "metadata": {},
   "outputs": [
    {
     "name": "stdout",
     "output_type": "stream",
     "text": [
      "Test Loss: 0.041458\n",
      "\n",
      "Test Accuracy of     0: 99% (975/980)\n",
      "Test Accuracy of     1: 99% (1129/1135)\n",
      "Test Accuracy of     2: 99% (1023/1032)\n",
      "Test Accuracy of     3: 98% (998/1010)\n",
      "Test Accuracy of     4: 99% (976/982)\n",
      "Test Accuracy of     5: 97% (874/892)\n",
      "Test Accuracy of     6: 98% (942/958)\n",
      "Test Accuracy of     7: 97% (1006/1028)\n",
      "Test Accuracy of     8: 98% (959/974)\n",
      "Test Accuracy of     9: 97% (981/1009)\n",
      "\n",
      "Test Accuracy (Overall): 98% (9863/10000)\n"
     ]
    }
   ],
   "source": [
    "# initialize lists to monitor test loss and accuracy\n",
    "test_loss = 0.0\n",
    "class_correct = list(0. for i in range(10))\n",
    "class_total = list(0. for i in range(10))\n",
    "\n",
    "model.eval() # prep model for training\n",
    "\n",
    "for data, target in test_loader:\n",
    "    # forward pass: compute predicted outputs by passing inputs to the model\n",
    "    output = model(data)\n",
    "    # calculate the loss\n",
    "    loss = criterion(output, target)\n",
    "    # update test loss \n",
    "    test_loss += loss.item()*data.size(0)\n",
    "    # convert output probabilities to predicted class\n",
    "    _, pred = torch.max(output, 1)\n",
    "    # compare predictions to true label\n",
    "    correct = np.squeeze(pred.eq(target.data.view_as(pred)))\n",
    "    # calculate test accuracy for each object class\n",
    "    for i in range(batch_size):\n",
    "        label = target.data[i]\n",
    "        class_correct[label] += correct[i].item()\n",
    "        class_total[label] += 1\n",
    "\n",
    "# calculate and print avg test loss\n",
    "test_loss = test_loss/len(test_loader.dataset)\n",
    "print('Test Loss: {:.6f}\\n'.format(test_loss))\n",
    "\n",
    "for i in range(10):\n",
    "    if class_total[i] > 0:\n",
    "        print('Test Accuracy of %5s: %2d%% (%2d/%2d)' % (\n",
    "            str(i), 100 * class_correct[i] / class_total[i],\n",
    "            np.sum(class_correct[i]), np.sum(class_total[i])))\n",
    "    else:\n",
    "        print('Test Accuracy of %5s: N/A (no training examples)' % (classes[i]))\n",
    "\n",
    "print('\\nTest Accuracy (Overall): %2d%% (%2d/%2d)' % (\n",
    "    100. * np.sum(class_correct) / np.sum(class_total),\n",
    "    np.sum(class_correct), np.sum(class_total)))"
   ]
  },
  {
   "cell_type": "markdown",
   "metadata": {},
   "source": [
    "# Visualize the test sample"
   ]
  },
  {
   "cell_type": "code",
   "execution_count": 8,
   "metadata": {},
   "outputs": [
    {
     "data": {
      "image/png": "[encoded data removed]",
      "text/plain": [
       "<Figure size 1800x288 with 20 Axes>"
      ]
     },
     "metadata": {},
     "output_type": "display_data"
    }
   ],
   "source": [
    "# obtain one batch of test images\n",
    "dataiter = iter(test_loader)\n",
    "images, labels = dataiter.next()\n",
    "\n",
    "# get sample outputs\n",
    "output = model(images)\n",
    "# convert output probabilities to predicted class\n",
    "_, preds = torch.max(output, 1)\n",
    "# prep images for display\n",
    "images = images.numpy()\n",
    "\n",
    "# plot the images in the batch, along with predicted and true labels\n",
    "fig = plt.figure(figsize=(25, 4))\n",
    "for idx in np.arange(20):\n",
    "    ax = fig.add_subplot(2, 20/2, idx+1, xticks=[], yticks=[])\n",
    "    ax.imshow(np.squeeze(images[idx]), cmap='gray')\n",
    "    ax.set_title(\"{} ({})\".format(str(preds[idx].item()), str(labels[idx].item())),\n",
    "                 color=(\"green\" if preds[idx]==labels[idx] else \"red\"))"
   ]
  },
  {
   "cell_type": "code",
   "execution_count": null,
   "metadata": {},
   "outputs": [],
   "source": []
  },
  {
   "cell_type": "code",
   "execution_count": null,
   "metadata": {},
   "outputs": [],
   "source": []
  },
  {
   "cell_type": "code",
   "execution_count": null,
   "metadata": {},
   "outputs": [],
   "source": []
  },
  {
   "cell_type": "code",
   "execution_count": null,
   "metadata": {},
   "outputs": [],
   "source": []
  }
 ],
 "metadata": {
  "kernelspec": {
   "display_name": "Python 3",
   "language": "python",
   "name": "python3"
  },
  "language_info": {
   "codemirror_mode": {
    "name": "ipython",
    "version": 3
   },
   "file_extension": ".py",
   "mimetype": "text/x-python",
   "name": "python",
   "nbconvert_exporter": "python",
   "pygments_lexer": "ipython3",
   "version": "3.8.3"
  }
 },
 "nbformat": 4,
 "nbformat_minor": 4
}
